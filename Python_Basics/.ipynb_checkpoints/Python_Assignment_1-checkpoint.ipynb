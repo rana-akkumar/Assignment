{
 "cells": [
  {
   "cell_type": "markdown",
   "metadata": {},
   "source": [
    "## Q1. Write a program which will find all such numbers which are divisible by 7 but are not a multiple of 5, between 2000 and 3200 (both inclusive). The numbers obtained should be printed in a comma-seperated sequence on a single line."
   ]
  },
  {
   "cell_type": "code",
   "execution_count": 1,
   "metadata": {},
   "outputs": [],
   "source": [
    "# Method to find such number which are divisible by 7 but not by 5\n",
    "def num_div_7_not_div_5(start, end):\n",
    "    \n",
    "    # Find the first numnber divisible by 7\n",
    "    while (0 != (start%7)):\n",
    "        start += 1\n",
    "        \n",
    "    # list of storing the result\n",
    "    rest = []\n",
    "    \n",
    "    # find all the required numbers\n",
    "    while (start <= end):\n",
    "        # if number is not multiple of 5, add to list \n",
    "        if (start % 5 != 0):\n",
    "            rest.append(start)\n",
    "        start += 7\n",
    "        \n",
    "    # return result\n",
    "    return rest\n",
    "    \n",
    "# Utility function to print items of alist in comm seperated sequence in a single line\n",
    "def print_in_comma_seperated_seq (lst):\n",
    "    print(\",\".join([str(x) for x in lst]))"
   ]
  },
  {
   "cell_type": "code",
   "execution_count": 2,
   "metadata": {},
   "outputs": [
    {
     "name": "stdout",
     "output_type": "stream",
     "text": [
      "2002,2009,2016,2023,2037,2044,2051,2058,2072,2079,2086,2093,2107,2114,2121,2128,2142,2149,2156,2163,2177,2184,2191,2198,2212,2219,2226,2233,2247,2254,2261,2268,2282,2289,2296,2303,2317,2324,2331,2338,2352,2359,2366,2373,2387,2394,2401,2408,2422,2429,2436,2443,2457,2464,2471,2478,2492,2499,2506,2513,2527,2534,2541,2548,2562,2569,2576,2583,2597,2604,2611,2618,2632,2639,2646,2653,2667,2674,2681,2688,2702,2709,2716,2723,2737,2744,2751,2758,2772,2779,2786,2793,2807,2814,2821,2828,2842,2849,2856,2863,2877,2884,2891,2898,2912,2919,2926,2933,2947,2954,2961,2968,2982,2989,2996,3003,3017,3024,3031,3038,3052,3059,3066,3073,3087,3094,3101,3108,3122,3129,3136,3143,3157,3164,3171,3178,3192,3199\n"
     ]
    }
   ],
   "source": [
    "# get the list of all the required number\n",
    "result = num_div_7_not_div_5(2000,3200)\n",
    "# print the result in desired format\n",
    "print_in_comma_seperated_seq(result)"
   ]
  },
  {
   "cell_type": "markdown",
   "metadata": {},
   "source": [
    "## Q2. Write a Python program to accept the user's first and last name and then getting them printed in the the reverse order with a space between first name and last name."
   ]
  },
  {
   "cell_type": "code",
   "execution_count": 3,
   "metadata": {},
   "outputs": [],
   "source": [
    "# Utility function to get name from console input\n",
    "def getName():\n",
    "    # get first name\n",
    "    print(\"Enter first name : \")\n",
    "    first_name = input();\n",
    "    # get last name\n",
    "    print(\"Enter last name :\")\n",
    "    last_name = input();\n",
    "    # return the names\n",
    "    return first_name, last_name\n",
    "\n",
    "# Reverse the name\n",
    "'''\n",
    "def get_reverse_order(first_name, last_name):\n",
    "    # reverse and return the string\n",
    "    return last_name[::-1] + \" \" + first_name[::-1]\n",
    "'''\n",
    "# Reverse the name\n",
    "def get_reverse_order(first_name, last_name):\n",
    "    # reverse and return the string\n",
    "    return last_name + \" \" + first_name"
   ]
  },
  {
   "cell_type": "code",
   "execution_count": 4,
   "metadata": {},
   "outputs": [
    {
     "name": "stdout",
     "output_type": "stream",
     "text": [
      "Enter first name : \n",
      "Akash\n",
      "Enter last name :\n",
      "Kumar\n",
      "Reverse Order : Kumar Akash\n"
     ]
    }
   ],
   "source": [
    "# Get the first and last name\n",
    "first_name, last_name = getName()\n",
    "# Reverse the name\n",
    "rev_odr_name = get_reverse_order(first_name, last_name)\n",
    "# print the revesed name\n",
    "print(\"Reverse Order :\",rev_odr_name)"
   ]
  },
  {
   "cell_type": "markdown",
   "metadata": {},
   "source": [
    "## Q3. Write a Python program to find the volume of a sphere with diameter 12 cm\n",
    "# Formula: V= 4/3 * π * (r^3)"
   ]
  },
  {
   "cell_type": "code",
   "execution_count": 5,
   "metadata": {},
   "outputs": [],
   "source": [
    "#import pi from math \n",
    "from math import pi as pi\n",
    "\n",
    "# Method to calculat the volumme of the sphere, takes diameter as input\n",
    "def volue_of_sphere(diameter):\n",
    "    # compute and return the volume\n",
    "    return (4 * pi * pow((diameter/2),3)) / 3"
   ]
  },
  {
   "cell_type": "code",
   "execution_count": 6,
   "metadata": {
    "scrolled": true
   },
   "outputs": [
    {
     "name": "stdout",
     "output_type": "stream",
     "text": [
      "Volume for the sphere of Diameter 12 cm is 904.7786842338604 cm3\n"
     ]
    }
   ],
   "source": [
    "diameter = 12\n",
    "volume = volue_of_sphere(diameter)\n",
    "print(\"Volume for the sphere of Diameter\",diameter,\"cm is\",volume,\"cm3\")"
   ]
  },
  {
   "cell_type": "code",
   "execution_count": null,
   "metadata": {},
   "outputs": [],
   "source": []
  }
 ],
 "metadata": {
  "kernelspec": {
   "display_name": "Python 3",
   "language": "python",
   "name": "python3"
  },
  "language_info": {
   "codemirror_mode": {
    "name": "ipython",
    "version": 3
   },
   "file_extension": ".py",
   "mimetype": "text/x-python",
   "name": "python",
   "nbconvert_exporter": "python",
   "pygments_lexer": "ipython3",
   "version": "3.6.5"
  }
 },
 "nbformat": 4,
 "nbformat_minor": 2
}
