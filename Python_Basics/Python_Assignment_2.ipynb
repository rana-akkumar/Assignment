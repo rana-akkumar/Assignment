{
 "cells": [
  {
   "attachments": {
    "image.png": {
     "image/png": "[encoded data removed]"
    }
   },
   "cell_type": "markdown",
   "metadata": {},
   "source": [
    "# Q1. Create the below pattern using nested for loop in Python.\n",
    "![image.png](attachment:image.png)"
   ]
  },
  {
   "cell_type": "code",
   "execution_count": 1,
   "metadata": {},
   "outputs": [],
   "source": [
    "# function : print_pattern, prints the required pattern given above \n",
    "# takes input as max number of '*' printed in a line.\n",
    "def print_pattern(num):\n",
    "    \n",
    "    # print in increasing order\n",
    "    for i in range(1,num+1):\n",
    "        temp = []\n",
    "        for j in range(0,i):\n",
    "            temp.append('*')\n",
    "            \n",
    "        # print all the elements sepearted by comma\n",
    "        print(\" \".join([str(x) for x in temp]))\n",
    "    \n",
    "    # print in decreasing order\n",
    "    for i in range(1,num+1):\n",
    "        temp = []\n",
    "        for j in range(0,num-i):\n",
    "            temp.append('*')\n",
    "            \n",
    "        # print all the elements sepearted by comma\n",
    "        print(\" \".join([str(x) for x in temp]))\n",
    "        \n",
    "    # return \n",
    "    return "
   ]
  },
  {
   "cell_type": "code",
   "execution_count": 2,
   "metadata": {},
   "outputs": [
    {
     "name": "stdout",
     "output_type": "stream",
     "text": [
      "*\n",
      "* *\n",
      "* * *\n",
      "* * * *\n",
      "* * * * *\n",
      "* * * *\n",
      "* * *\n",
      "* *\n",
      "*\n",
      "\n"
     ]
    }
   ],
   "source": [
    "# all the pattern \n",
    "print_pattern(5)"
   ]
  },
  {
   "cell_type": "markdown",
   "metadata": {},
   "source": [
    "# Q2. Write a Python program to reverse a word after accepting the input from the user.\n",
    "## Sample Output:\n",
    "## Input word: ineuron\n",
    "## Output: norueni"
   ]
  },
  {
   "cell_type": "code",
   "execution_count": 3,
   "metadata": {},
   "outputs": [],
   "source": [
    "# Function reverse a word \n",
    "def rev_string(in_str):\n",
    "    return in_str[::-1]"
   ]
  },
  {
   "cell_type": "code",
   "execution_count": 4,
   "metadata": {},
   "outputs": [
    {
     "name": "stdout",
     "output_type": "stream",
     "text": [
      "Word \"ineuron\" : reversed word \"norueni\"\n"
     ]
    }
   ],
   "source": [
    "word = \"ineuron\"\n",
    "rev_word = rev_string(word)\n",
    "print('Word \"{}\" : reversed word \"{}\"'.format(word,rev_word))"
   ]
  },
  {
   "cell_type": "code",
   "execution_count": null,
   "metadata": {},
   "outputs": [],
   "source": []
  }
 ],
 "metadata": {
  "kernelspec": {
   "display_name": "Python 3",
   "language": "python",
   "name": "python3"
  },
  "language_info": {
   "codemirror_mode": {
    "name": "ipython",
    "version": 3
   },
   "file_extension": ".py",
   "mimetype": "text/x-python",
   "name": "python",
   "nbconvert_exporter": "python",
   "pygments_lexer": "ipython3",
   "version": "3.6.5"
  }
 },
 "nbformat": 4,
 "nbformat_minor": 2
}
