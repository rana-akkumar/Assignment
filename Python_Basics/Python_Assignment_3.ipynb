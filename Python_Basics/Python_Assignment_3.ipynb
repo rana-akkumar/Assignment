{
 "cells": [
  {
   "cell_type": "markdown",
   "metadata": {},
   "source": [
    "# Q1.1 Write a Python Program to implement your own myreduce() function which works exactly like Python's built-in function reduce()"
   ]
  },
  {
   "cell_type": "code",
   "execution_count": 1,
   "metadata": {},
   "outputs": [],
   "source": [
    "from functools import reduce"
   ]
  },
  {
   "cell_type": "code",
   "execution_count": 2,
   "metadata": {},
   "outputs": [],
   "source": [
    "def my_reduce(func,inerable,initial=None):\n",
    "    \n",
    "    # Base case check\n",
    "    if (len(inerable) == 0) & (None == initial):\n",
    "        raise TypeError(\"my_reduce() of empty sequence with no initial value\")\n",
    "    elif (0 == len(inerable)):\n",
    "        return initial\n",
    "    \n",
    "    # initial value init\n",
    "    final_res = inerable[0]\n",
    "    \n",
    "    # check for initial value \n",
    "    if None != initial:\n",
    "        final_res = func(initial,final_res)\n",
    "    \n",
    "    # iterate though all the elements\n",
    "    for x in inerable[1:]:\n",
    "        final_res = func(final_res, x)\n",
    "    \n",
    "    # return final computed value\n",
    "    return final_res"
   ]
  },
  {
   "cell_type": "code",
   "execution_count": 3,
   "metadata": {},
   "outputs": [
    {
     "name": "stdout",
     "output_type": "stream",
     "text": [
      "TestCase # 1 Empty List with initial value ---------------\n",
      "my_reduce :  1\n",
      "reduce    :  1\n",
      "TestCase # 2 List ----------------------------------------\n",
      "my_reduce :  15\n",
      "reduce    :  15\n",
      "TestCase # 3 Multiply String and number ------------------\n",
      "my_reduce :  ABCABCABCABCABCABC\n",
      "reduce    :  ABCABCABCABCABCABC\n",
      "TestCase # 4 Multiply String and number ------------------\n",
      "my_reduce :  XYZXYZXYZXYZXYZXYZ\n",
      "reduce    :  XYZXYZXYZXYZXYZXYZ\n"
     ]
    }
   ],
   "source": [
    "# TestCase # 1 Empty List with initial value\n",
    "empty_list = []\n",
    "print(\"TestCase # 1 Empty List with initial value\",\"-\"*15)\n",
    "print(\"my_reduce : \",my_reduce(lambda x,y:x*y, empty_list, 1))\n",
    "print(\"reduce    : \",reduce(lambda x,y:x*y, empty_list, 1))\n",
    "\n",
    "#TestCase # 2 List \n",
    "temp_list = [1,2,3,4,5]\n",
    "print(\"TestCase # 2 List\",\"-\"*40)\n",
    "print(\"my_reduce : \",my_reduce(lambda x,y:x+y, temp_list))\n",
    "print(\"reduce    : \",reduce(lambda x,y:x+y, temp_list))\n",
    "\n",
    "#TestCase # 3 Multiply String and number\n",
    "temp_list2 = [\"ABC\",2,3]\n",
    "print(\"TestCase # 3 Multiply String and number\",\"-\"*18)\n",
    "print(\"my_reduce : \",my_reduce(lambda x,y:x*y, temp_list2))\n",
    "print(\"reduce    : \",reduce(lambda x,y:x*y, temp_list2))\n",
    "\n",
    "#TestCase # 4 Multiply String and number\n",
    "temp_list3 = [1,2,3]\n",
    "initial_val3 = \"XYZ\"\n",
    "print(\"TestCase # 4 Multiply String and number\",\"-\"*18)\n",
    "print(\"my_reduce : \",my_reduce(lambda x,y:x*y, temp_list3, initial_val3))\n",
    "print(\"reduce    : \",reduce(lambda x,y:x*y, temp_list3,initial_val3))"
   ]
  },
  {
   "cell_type": "markdown",
   "metadata": {},
   "source": [
    "# Q1.2 Write a Python program to implement your own myfilter() function which works exactly like Python's built-in function filter()"
   ]
  },
  {
   "cell_type": "code",
   "execution_count": 4,
   "metadata": {},
   "outputs": [],
   "source": [
    "def my_filter(func,inerable):\n",
    "    \n",
    "    result = []\n",
    "    \n",
    "    for x in inerable:\n",
    "        \n",
    "        if func(x) is True:\n",
    "            \n",
    "            result.append(x)\n",
    "            \n",
    "    return result"
   ]
  },
  {
   "cell_type": "code",
   "execution_count": 5,
   "metadata": {},
   "outputs": [
    {
     "data": {
      "text/plain": [
       "[11, 14]"
      ]
     },
     "execution_count": 5,
     "metadata": {},
     "output_type": "execute_result"
    }
   ],
   "source": [
    "my_filter(lambda x : x> 10, [10,11,3,14,5])"
   ]
  },
  {
   "cell_type": "markdown",
   "metadata": {},
   "source": [
    "# Q2. Implement List comprehensions to produce the following lists.Write List comprehensions to produce the following Lists"
   ]
  },
  {
   "cell_type": "markdown",
   "metadata": {},
   "source": [
    "## Q2.1 ['x', 'xx', 'xxx', 'xxxx', 'y', 'yy', 'yyy', 'yyyy', 'z', 'zz', 'zzz', 'zzzz']"
   ]
  },
  {
   "cell_type": "code",
   "execution_count": 6,
   "metadata": {},
   "outputs": [],
   "source": [
    "def list_comp_1 (inputLst):\n",
    "    \n",
    "    retVal = []\n",
    "    \n",
    "    for j in inputLst:\n",
    "        for i in range(1,5):\n",
    "            retVal.append(j*i)\n",
    "            \n",
    "    return retVal"
   ]
  },
  {
   "cell_type": "code",
   "execution_count": 7,
   "metadata": {},
   "outputs": [
    {
     "name": "stdout",
     "output_type": "stream",
     "text": [
      "Function Ouput :  ['x', 'xx', 'xxx', 'xxxx', 'y', 'yy', 'yyy', 'yyyy', 'z', 'zz', 'zzz', 'zzzz']\n",
      "List comprehension Ouput :  ['x', 'xx', 'xxx', 'xxxx', 'y', 'yy', 'yyy', 'yyyy', 'z', 'zz', 'zzz', 'zzzz']\n"
     ]
    }
   ],
   "source": [
    "print(\"Function Ouput : \",list_comp_1(\"xyz\"))\n",
    "c1 = [i*j for i in \"xyz\" for j in range(1,5)]\n",
    "print(\"List comprehension Ouput : \",c1)"
   ]
  },
  {
   "cell_type": "markdown",
   "metadata": {},
   "source": [
    "## Q2.2 ['x', 'y', 'z', 'xx', 'yy', 'zz', 'xxx', 'yyy', 'zzz', 'xxxx', 'yyyy', 'zzzz']"
   ]
  },
  {
   "cell_type": "code",
   "execution_count": 8,
   "metadata": {},
   "outputs": [],
   "source": [
    "def list_comp_2 (inputLst):\n",
    "    \n",
    "    retVal = []\n",
    "    \n",
    "    for i in range(1,5):\n",
    "        for j in inputLst:\n",
    "            retVal.append(j*i)\n",
    "            \n",
    "    return retVal"
   ]
  },
  {
   "cell_type": "code",
   "execution_count": 9,
   "metadata": {},
   "outputs": [
    {
     "name": "stdout",
     "output_type": "stream",
     "text": [
      "Function Ouput :  ['x', 'y', 'z', 'xx', 'yy', 'zz', 'xxx', 'yyy', 'zzz', 'xxxx', 'yyyy', 'zzzz']\n",
      "List comprehension Ouput :  ['x', 'y', 'z', 'xx', 'yy', 'zz', 'xxx', 'yyy', 'zzz', 'xxxx', 'yyyy', 'zzzz']\n"
     ]
    }
   ],
   "source": [
    "print(\"Function Ouput : \",list_comp_2(\"xyz\"))\n",
    "c2 = [i*j for i in range(1,5) for j in \"xyz\"]\n",
    "print(\"List comprehension Ouput : \",c2)"
   ]
  },
  {
   "cell_type": "markdown",
   "metadata": {},
   "source": [
    "## Q2.3 [[2], [3], [4], [3], [4], [5], [4], [5], [6]]"
   ]
  },
  {
   "cell_type": "code",
   "execution_count": 10,
   "metadata": {},
   "outputs": [],
   "source": [
    "def list_comp_3(initialVal, stride):\n",
    "    \n",
    "    retVal = []\n",
    "    \n",
    "    for i in range(initialVal, initialVal+stride):\n",
    "        for j in range(0,stride):\n",
    "            retVal.append([i+j])\n",
    "    \n",
    "    return retVal"
   ]
  },
  {
   "cell_type": "code",
   "execution_count": 11,
   "metadata": {},
   "outputs": [
    {
     "name": "stdout",
     "output_type": "stream",
     "text": [
      "Function Ouput :  [[2], [3], [4], [3], [4], [5], [4], [5], [6]]\n",
      "List comprehension Ouput :  [[2], [3], [4], [3], [4], [5], [4], [5], [6]]\n"
     ]
    }
   ],
   "source": [
    "print(\"Function Ouput : \",list_comp_3(2,3))\n",
    "c3 =[[i+j] for i in range(2,5) for j in range (0,3)]\n",
    "print(\"List comprehension Ouput : \",c3)"
   ]
  },
  {
   "cell_type": "markdown",
   "metadata": {},
   "source": [
    "## Q2.4 [[2, 3, 4, 5], [3, 4, 5, 6], [4, 5, 6, 7], [5, 6, 7, 8]]"
   ]
  },
  {
   "cell_type": "code",
   "execution_count": 12,
   "metadata": {},
   "outputs": [],
   "source": [
    "def list_comp_4(initialVal, stride):\n",
    "    \n",
    "    retVal = []\n",
    "    \n",
    "    for i in range(initialVal, initialVal+stride):\n",
    "        tempLst = []\n",
    "        for j in range(stride):\n",
    "            tempLst.append(j+i)\n",
    "        retVal.append(tempLst)\n",
    "    \n",
    "    return retVal"
   ]
  },
  {
   "cell_type": "code",
   "execution_count": 13,
   "metadata": {},
   "outputs": [
    {
     "name": "stdout",
     "output_type": "stream",
     "text": [
      "Function Ouput :  [[2, 3, 4, 5], [3, 4, 5, 6], [4, 5, 6, 7], [5, 6, 7, 8]]\n",
      "List comprehension Ouput :  [[2, 3, 4, 5], [3, 4, 5, 6], [4, 5, 6, 7], [5, 6, 7, 8]]\n"
     ]
    }
   ],
   "source": [
    "print(\"Function Ouput : \",list_comp_4(2,4))\n",
    "c4 = [[i+j for i in range(2,6)] for j in range(4)]\n",
    "print(\"List comprehension Ouput : \",c4)"
   ]
  },
  {
   "cell_type": "markdown",
   "metadata": {},
   "source": [
    "## Q2.5 [(1, 1), (2, 1), (3, 1), (1, 2), (2, 2), (3, 2), (1, 3), (2, 3), (3, 3)]"
   ]
  },
  {
   "cell_type": "code",
   "execution_count": 14,
   "metadata": {},
   "outputs": [
    {
     "name": "stdout",
     "output_type": "stream",
     "text": [
      "List comprehension Ouput :  [(1, 1), (1, 2), (1, 3), (2, 1), (2, 2), (2, 3), (3, 1), (3, 2), (3, 3)]\n"
     ]
    }
   ],
   "source": [
    "c5 = [(i,j) for i in range(1,4) for j in range(1,4)]\n",
    "print(\"List comprehension Ouput : \",c5)"
   ]
  },
  {
   "cell_type": "code",
   "execution_count": null,
   "metadata": {},
   "outputs": [],
   "source": []
  }
 ],
 "metadata": {
  "kernelspec": {
   "display_name": "Python 3",
   "language": "python",
   "name": "python3"
  },
  "language_info": {
   "codemirror_mode": {
    "name": "ipython",
    "version": 3
   },
   "file_extension": ".py",
   "mimetype": "text/x-python",
   "name": "python",
   "nbconvert_exporter": "python",
   "pygments_lexer": "ipython3",
   "version": "3.6.5"
  }
 },
 "nbformat": 4,
 "nbformat_minor": 2
}
